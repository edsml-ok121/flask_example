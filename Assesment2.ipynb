{
 "cells": [
  {
   "cell_type": "code",
   "execution_count": 373,
   "id": "20e70dcd",
   "metadata": {},
   "outputs": [],
   "source": [
    "import pandas as pd\n",
    "import matplotlib.pyplot as plt \n",
    "\n",
    "class Reader:\n",
    "    def __init__(self, filename):\n",
    "        data = pd.read_csv('tideReadings.csv')\n",
    "        self.dateTime = data['dateTime']\n",
    "        self.stationName = data['stationName']\n",
    "        self.tideValue = data['tideValue']\n",
    "        self.data = data\n",
    "        \n",
    "    def station_tides(self, station_name, time_from=None, time_to=None):\n",
    "        df = Reader(\"tideReadings.csv\").data\n",
    "        if time_from == None:\n",
    "            time_from = df.loc[(df.stationName == station_name)].dateTime.min()\n",
    "        if time_to == None:\n",
    "            time_to = df.loc[(df.stationName == station_name)].dateTime.max()\n",
    "        mask = (df['dateTime'] >= time_from) & (df['dateTime'] <= time_to)\n",
    "        tf = df[mask]\n",
    "        time_station_filtered = tf.loc[tf.stationName.isin(station_name)].sort_values(by='dateTime')\n",
    "        return time_station_filtered\n",
    "    \n",
    "    def max_tides(self, time_from=None, time_to=None):\n",
    "        df = Reader(\"tideReadings.csv\").data\n",
    "        df['tideValue'] = pd.to_numeric(df['tideValue'], errors='coerce')\n",
    "        if time_from == None:\n",
    "            time_from = df.dateTime.min()\n",
    "        if time_to == None:\n",
    "            time_to = df.dateTime.max()\n",
    "        mask = (df['dateTime'] >= time_from) & (df['dateTime'] <= time_to)\n",
    "        tf = df[mask]\n",
    "        tide_grouped = tf.groupby(\"stationName\").max()\n",
    "        tide_sorted =  tide_grouped.sort_values(by='tideValue', ascending=False)\n",
    "        return tide_sorted\n",
    "    \n",
    "    def min_tides(self, time_from=None, time_to=None):\n",
    "        df = Reader(\"tideReadings.csv\").data\n",
    "        df['tideValue'] = pd.to_numeric(df['tideValue'], errors='coerce')\n",
    "        df['tideValue'] = pd.to_numeric(df['tideValue'], errors='coerce')\n",
    "        if time_from == None:\n",
    "            time_from = df.dateTime.min()\n",
    "        if time_to == None:\n",
    "            time_to = df.dateTime.max()\n",
    "        mask = (df['dateTime'] >= time_from) & (df['dateTime'] <= time_to)\n",
    "        tf = df[mask]\n",
    "        tide_grouped = tf.groupby(\"stationName\").min()\n",
    "        tide_sorted =  tide_grouped.sort_values(by='tideValue', ascending=True)\n",
    "        return tide_sorted\n",
    "    \n",
    "    def mean_tides(self, time_from=None, time_to=None):\n",
    "        df = Reader(\"tideReadings.csv\").data\n",
    "        df['tideValue'] = pd.to_numeric(df['tideValue'], errors='coerce')\n",
    "        df['tideValue'] = pd.to_numeric(df['tideValue'], errors='coerce')\n",
    "        if time_from == None:\n",
    "            time_from = df.dateTime.min()\n",
    "        if time_to == None:\n",
    "            time_to = df.dateTime.max()\n",
    "        mask = (df['dateTime'] >= time_from) & (df['dateTime'] <= time_to)\n",
    "        tf = df[mask]\n",
    "        tide_grouped = tf.groupby(\"stationName\").mean()\n",
    "        tide_sorted =  tide_grouped.sort_values(by='tideValue', ascending=True)\n",
    "        return tide_sorted\n",
    "    \n",
    "    def station_graph(self, station_name, time_from=None, time_to=None):\n",
    "        df = Reader(\"tideReadings.csv\").data\n",
    "        if time_from == None:\n",
    "            time_from = df.loc[(df.stationName == station_name)].dateTime.min()\n",
    "        if time_to == None:\n",
    "            time_to = df.loc[(df.stationName == station_name)].dateTime.max()\n",
    "        df['tideValue'] = pd.to_numeric(df['tideValue'], errors='coerce')\n",
    "        time_filter =  df[df['dateTime'].between(time_from, time_to)]\n",
    "        station_filter = time_filter[time_filter['stationName'] == station_name]\n",
    "        x = station_filter['dateTime']\n",
    "        y = station_filter['tideValue']\n",
    "        plt.figure(figsize=(10, 7))\n",
    "        plt.plot(x, y, color='red', marker='o')\n",
    "        plt.xticks(rotation = 45)\n",
    "        plt.title('Sea Level Readings (in m)', fontsize=14)\n",
    "        plt.xlabel('Time', fontsize=14)\n",
    "        plt.ylabel('Tide Values', fontsize=14)\n",
    "        plt.grid(True)\n",
    "        fig.savefig('test_graphs/station_name + graph.png')\n",
    "        return plt.show()\n",
    "    \n",
    "    def add_data(self, date_time, station_name, tide_value):\n",
    "        df = Reader(\"tideReadings.csv\").data\n",
    "        new_data = pd.DataFrame({'dateTime':date_time,\n",
    "               'stationName':  station_name,\n",
    "                'tideValue':  tide_value}, index=[0])\n",
    "        df_appended = df.append(new_data, ignore_index=True)\n",
    "        return df_appended\n",
    "    \n",
    "    def write_data(self, filename):\n",
    "        df = Reader(\"tideReadings.csv\").data\n",
    "        return df.to_csv(filename)\n",
    "\n",
    "\n",
    "\n",
    "\n",
    "#Fuction 2\n",
    "# reader = Reader(\"tideReadings.csv\")\n",
    "# tides = reader.station_tides([ \"Bangor\"], time_from=None, time_to=None)\n",
    "# tides\n",
    "\n",
    "# Fuction 3\n",
    "# reader = Reader(\"tideReadings.csv\")\n",
    "# tides = reader.max_tides(time_from=None, time_to=None)\n",
    "# tides\n",
    "\n",
    "# Fuction 4\n",
    "# reader = Reader(\"tideReadings.csv\")\n",
    "# tides = reader.min_tides(time_from=None, time_to=None)\n",
    "# tides.iloc[0]\n",
    "\n",
    "# Fuction 5\n",
    "# reader = Reader(\"tideReadings.csv\")\n",
    "# tides = reader.mean_tides(time_from=None, time_to=None)\n",
    "# tides.iloc[20]\n",
    "\n",
    "# Function 6\n",
    "# reader = Reader(\"tideReadings.csv\")\n",
    "# reader.station_graph('Dover', time_from='2021-09-20T01:00:00Z', time_to='2021-09-20T04:45:00Z')\n",
    "\n",
    "# Function 7\n",
    "# reader = Reader(\"tideReadings.csv\")\n",
    "# f =reader.add_data('2022-09-20T01:00:00Z', 'Babylon', 22.7)\n",
    "# f.head()"
   ]
  },
  {
   "cell_type": "code",
   "execution_count": 316,
   "id": "1e6cd20a",
   "metadata": {},
   "outputs": [],
   "source": [
    "df = pd.read_csv(\"tideReadings.csv\")\n",
    "reader = Reader(\"tideReadings.csv\")\n",
    "\n",
    "f =reader.add_data('2022-09-20T01:00:00Z', 'Babylon', 22.7)\n"
   ]
  },
  {
   "cell_type": "code",
   "execution_count": 322,
   "id": "59e9746b",
   "metadata": {},
   "outputs": [],
   "source": [
    "def write_data(self, filename):\n",
    "    df = Reader(\"tideReadings.csv\").data\n",
    "    return df.to_csv(filename)\n",
    "\n",
    "reader = Reader(\"tideReadings.csv\")\n",
    "reader.write_data('write_data_test.csv')"
   ]
  },
  {
   "cell_type": "code",
   "execution_count": 379,
   "id": "1fd1cf7a",
   "metadata": {},
   "outputs": [
    {
     "data": {
      "image/png": "[encoded data removed]",
      "text/plain": [
       "<Figure size 720x504 with 1 Axes>"
      ]
     },
     "metadata": {
      "needs_background": "light"
     },
     "output_type": "display_data"
    },
    {
     "data": {
      "text/plain": [
       "NoneType"
      ]
     },
     "execution_count": 379,
     "metadata": {},
     "output_type": "execute_result"
    }
   ],
   "source": [
    " def station_graph(self,station_name, time_from=None, time_to=None):\n",
    "        df = pd.read_csv(\"tideReadings.csv\")\n",
    "        if time_from == None:\n",
    "            time_from = df.loc[(df.stationName == station_name)].dateTime.min()\n",
    "        if time_to == None:\n",
    "            time_to = df.loc[(df.stationName == station_name)].dateTime.max()\n",
    "        df['tideValue'] = pd.to_numeric(df['tideValue'], errors='coerce')\n",
    "        time_filter =  df[df['dateTime'].between(time_from, time_to)]\n",
    "        station_filter = time_filter[time_filter['stationName'] == station_name]\n",
    "        x = station_filter['dateTime']\n",
    "        y = station_filter['tideValue']\n",
    "        fig = plt.figure()\n",
    "        plt.plot(x, y, color='red', marker='o')\n",
    "        plt.xticks(rotation = 45, figure=fig)\n",
    "        plt.title('Sea Level Readings (in m)', fontsize=14)\n",
    "        plt.xlabel('Time', fontsize=14)\n",
    "        plt.ylabel('Tide Values', fontsize=14)\n",
    "        plt.grid(True)\n",
    "        filename = str(station_name) + str(time_from) + '.png'\n",
    "        return fig.savefig('test.png')\n",
    "\n",
    "reader = Reader(\"tideReadings.csv\")\n",
    "g = reader.station_graph('Bangor', time_from='2021-09-20T00:00:00Z', time_to='2021-09-20T04:15:00Z')\n",
    "type(g)"
   ]
  },
  {
   "cell_type": "code",
   "execution_count": 353,
   "id": "f1927880",
   "metadata": {},
   "outputs": [],
   "source": [
    "# plt.savefig(\"field\" + str(field) + str(instant[0]) + \".png\")"
   ]
  },
  {
   "cell_type": "code",
   "execution_count": 330,
   "id": "0f7aba93",
   "metadata": {},
   "outputs": [],
   "source": [
    "graph"
   ]
  },
  {
   "cell_type": "code",
   "execution_count": null,
   "id": "f9b4ead8",
   "metadata": {},
   "outputs": [],
   "source": []
  }
 ],
 "metadata": {
  "kernelspec": {
   "display_name": "Python 3",
   "language": "python",
   "name": "python3"
  },
  "language_info": {
   "codemirror_mode": {
    "name": "ipython",
    "version": 3
   },
   "file_extension": ".py",
   "mimetype": "text/x-python",
   "name": "python",
   "nbconvert_exporter": "python",
   "pygments_lexer": "ipython3",
   "version": "3.9.7"
  }
 },
 "nbformat": 4,
 "nbformat_minor": 5
}
